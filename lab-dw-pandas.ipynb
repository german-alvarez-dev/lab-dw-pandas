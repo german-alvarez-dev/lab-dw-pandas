{
 "cells": [
  {
   "cell_type": "code",
   "execution_count": null,
   "id": "975bb325",
   "metadata": {},
   "outputs": [],
   "source": [
    "import pandas as pd"
   ]
  },
  {
   "cell_type": "code",
   "execution_count": null,
   "id": "c7adb1db",
   "metadata": {},
   "outputs": [],
   "source": [
    "#load dataframe\n",
    "url = 'https://raw.githubusercontent.com/data-bootcamp-v4/data/main/file1.csv'\n",
    "customer_df = pd.read_csv(url)"
   ]
  },
  {
   "cell_type": "code",
   "execution_count": 42,
   "id": "1539d1a7",
   "metadata": {},
   "outputs": [
    {
     "name": "stdout",
     "output_type": "stream",
     "text": [
      "<class 'pandas.core.frame.DataFrame'>\n",
      "RangeIndex: 4008 entries, 0 to 4007\n",
      "Data columns (total 11 columns):\n",
      " #   Column                     Non-Null Count  Dtype   \n",
      "---  ------                     --------------  -----   \n",
      " 0   Customer                   1071 non-null   object  \n",
      " 1   ST                         1071 non-null   object  \n",
      " 2   GENDER                     954 non-null    category\n",
      " 3   Education                  1071 non-null   category\n",
      " 4   Customer Lifetime Value    1068 non-null   float64 \n",
      " 5   Income                     1071 non-null   float64 \n",
      " 6   Monthly Premium Auto       1071 non-null   float64 \n",
      " 7   Number of Open Complaints  1071 non-null   object  \n",
      " 8   Policy Type                1071 non-null   category\n",
      " 9   Vehicle Class              1071 non-null   category\n",
      " 10  Total Claim Amount         1071 non-null   float64 \n",
      "dtypes: category(4), float64(4), object(3)\n",
      "memory usage: 235.7+ KB\n"
     ]
    },
    {
     "data": {
      "text/html": [
       "<div>\n",
       "<style scoped>\n",
       "    .dataframe tbody tr th:only-of-type {\n",
       "        vertical-align: middle;\n",
       "    }\n",
       "\n",
       "    .dataframe tbody tr th {\n",
       "        vertical-align: top;\n",
       "    }\n",
       "\n",
       "    .dataframe thead th {\n",
       "        text-align: right;\n",
       "    }\n",
       "</style>\n",
       "<table border=\"1\" class=\"dataframe\">\n",
       "  <thead>\n",
       "    <tr style=\"text-align: right;\">\n",
       "      <th></th>\n",
       "      <th>Customer Lifetime Value</th>\n",
       "      <th>Income</th>\n",
       "      <th>Monthly Premium Auto</th>\n",
       "      <th>Total Claim Amount</th>\n",
       "    </tr>\n",
       "  </thead>\n",
       "  <tbody>\n",
       "    <tr>\n",
       "      <th>count</th>\n",
       "      <td>1.068000e+03</td>\n",
       "      <td>1071.000000</td>\n",
       "      <td>1071.000000</td>\n",
       "      <td>1071.000000</td>\n",
       "    </tr>\n",
       "    <tr>\n",
       "      <th>mean</th>\n",
       "      <td>7.936903e+05</td>\n",
       "      <td>39295.701214</td>\n",
       "      <td>193.234360</td>\n",
       "      <td>404.986909</td>\n",
       "    </tr>\n",
       "    <tr>\n",
       "      <th>std</th>\n",
       "      <td>6.434784e+05</td>\n",
       "      <td>30469.427060</td>\n",
       "      <td>1601.190369</td>\n",
       "      <td>293.027260</td>\n",
       "    </tr>\n",
       "    <tr>\n",
       "      <th>min</th>\n",
       "      <td>2.004351e+05</td>\n",
       "      <td>0.000000</td>\n",
       "      <td>61.000000</td>\n",
       "      <td>0.382107</td>\n",
       "    </tr>\n",
       "    <tr>\n",
       "      <th>25%</th>\n",
       "      <td>4.034080e+05</td>\n",
       "      <td>14072.000000</td>\n",
       "      <td>68.000000</td>\n",
       "      <td>202.157702</td>\n",
       "    </tr>\n",
       "    <tr>\n",
       "      <th>50%</th>\n",
       "      <td>5.881742e+05</td>\n",
       "      <td>36234.000000</td>\n",
       "      <td>83.000000</td>\n",
       "      <td>354.729129</td>\n",
       "    </tr>\n",
       "    <tr>\n",
       "      <th>75%</th>\n",
       "      <td>8.962872e+05</td>\n",
       "      <td>64631.000000</td>\n",
       "      <td>109.500000</td>\n",
       "      <td>532.800000</td>\n",
       "    </tr>\n",
       "    <tr>\n",
       "      <th>max</th>\n",
       "      <td>5.816655e+06</td>\n",
       "      <td>99960.000000</td>\n",
       "      <td>35354.000000</td>\n",
       "      <td>2893.239678</td>\n",
       "    </tr>\n",
       "  </tbody>\n",
       "</table>\n",
       "</div>"
      ],
      "text/plain": [
       "       Customer Lifetime Value        Income  Monthly Premium Auto  \\\n",
       "count             1.068000e+03   1071.000000           1071.000000   \n",
       "mean              7.936903e+05  39295.701214            193.234360   \n",
       "std               6.434784e+05  30469.427060           1601.190369   \n",
       "min               2.004351e+05      0.000000             61.000000   \n",
       "25%               4.034080e+05  14072.000000             68.000000   \n",
       "50%               5.881742e+05  36234.000000             83.000000   \n",
       "75%               8.962872e+05  64631.000000            109.500000   \n",
       "max               5.816655e+06  99960.000000          35354.000000   \n",
       "\n",
       "       Total Claim Amount  \n",
       "count         1071.000000  \n",
       "mean           404.986909  \n",
       "std            293.027260  \n",
       "min              0.382107  \n",
       "25%            202.157702  \n",
       "50%            354.729129  \n",
       "75%            532.800000  \n",
       "max           2893.239678  "
      ]
     },
     "execution_count": 42,
     "metadata": {},
     "output_type": "execute_result"
    }
   ],
   "source": [
    "# basics\n",
    "customer_df.head()\n",
    "customer_df.info()\n",
    "customer_df.describe()"
   ]
  },
  {
   "cell_type": "code",
   "execution_count": null,
   "id": "dd4e8cd8-a6f6-486c-a5c4-1745b0c035f4",
   "metadata": {},
   "outputs": [],
   "source": [
    "# tuple with rows and columns\n",
    "customer_df.shape\n",
    "\n",
    "# solo filas\n",
    "len(customer_df)\n",
    "customer_df.shape[0]\n",
    "\n",
    "# solo columnas\n",
    "len(customer_df.columns)\n",
    "customer_df.shape[1]\n",
    "\n",
    "# Número de filas y columnas\n",
    "rows, cols = customer_df.shape\n",
    "print(f\"El dataset tiene {rows} filas y {cols} columnas.\")"
   ]
  },
  {
   "cell_type": "code",
   "execution_count": null,
   "id": "38987c84",
   "metadata": {},
   "outputs": [],
   "source": [
    "# Check the data types of each column\n",
    "customer_df.dtypes"
   ]
  },
  {
   "cell_type": "code",
   "execution_count": null,
   "id": "dfe4c97a",
   "metadata": {},
   "outputs": [],
   "source": [
    "# Convert 'GENDER', 'Education', 'Policy Type', and 'Vehicle Class' to category\n",
    "customer_df['GENDER'] = customer_df['GENDER'].astype('category')\n",
    "customer_df['Education'] = customer_df['Education'].astype('category')\n",
    "customer_df['Policy Type'] = customer_df['Policy Type'].astype('category')\n",
    "customer_df['Vehicle Class'] = customer_df['Vehicle Class'].astype('category')"
   ]
  },
  {
   "cell_type": "code",
   "execution_count": null,
   "id": "d7767d27",
   "metadata": {},
   "outputs": [],
   "source": [
    "# error no puede convertir a float con %\n",
    "customer_df['Customer Lifetime Value'] = customer_df['Customer Lifetime Value'].astype('float64')"
   ]
  },
  {
   "cell_type": "code",
   "execution_count": null,
   "id": "458789aa",
   "metadata": {},
   "outputs": [],
   "source": [
    "# Filter rows that contain the '%' symbol\n",
    "rows_with_percent = customer_df[customer_df['Customer Lifetime Value'].str.contains('%', na=False)]\n",
    "print(rows_with_percent)"
   ]
  },
  {
   "cell_type": "code",
   "execution_count": null,
   "id": "494221f9",
   "metadata": {},
   "outputs": [],
   "source": [
    "# Remove %\n",
    "customer_df['Customer Lifetime Value'] = customer_df['Customer Lifetime Value'].str.replace('%', '')\n",
    "\n",
    "# Update\n",
    "customer_df['Customer Lifetime Value'] = customer_df['Customer Lifetime Value'].astype('float64')"
   ]
  },
  {
   "cell_type": "code",
   "execution_count": 39,
   "id": "38c26369",
   "metadata": {},
   "outputs": [
    {
     "name": "stdout",
     "output_type": "stream",
     "text": [
      "Customer                     1071\n",
      "ST                              8\n",
      "GENDER                          5\n",
      "Education                       6\n",
      "Customer Lifetime Value      1027\n",
      "Income                        774\n",
      "Monthly Premium Auto          132\n",
      "Number of Open Complaints       6\n",
      "Policy Type                     3\n",
      "Vehicle Class                   6\n",
      "Total Claim Amount            761\n",
      "dtype: int64\n"
     ]
    }
   ],
   "source": [
    "# Count the number of unique values in each column\n",
    "unique_counts = customer_df.nunique()\n",
    "print(unique_counts)"
   ]
  },
  {
   "cell_type": "code",
   "execution_count": null,
   "id": "76c8fe9a",
   "metadata": {},
   "outputs": [],
   "source": [
    "# Get unique values for categorical columns\n",
    "categorical_columns = ['GENDER', 'Education', 'Policy Type', 'Vehicle Class']\n",
    "\n",
    "for col in categorical_columns:\n",
    "    print(f\"Unique values in {col} ({customer_df[col].dtype}): {customer_df[col].unique()}\\n\\n\")"
   ]
  },
  {
   "cell_type": "code",
   "execution_count": null,
   "id": "2cc0cbc0",
   "metadata": {},
   "outputs": [],
   "source": [
    "# Compute summary statistics such as mean, median, mode, standard deviation, and quartiles to understand the central tendency and distribution of the data for numerical columns. \n",
    "\n",
    "numerical_columns = ['Customer Lifetime Value', 'Income', 'Monthly Premium Auto', 'Total Claim Amount']\n",
    "\n",
    "for col in numerical_columns:\n",
    "    print(f\"Statistics for {col}:\")\n",
    "    print(customer_df[col].describe())\n",
    "    print(\"\\n\")"
   ]
  },
  {
   "cell_type": "markdown",
   "id": "16fb4f0c",
   "metadata": {},
   "source": [
    "## Observaciones por columna (categóricas)\n",
    "\n",
    "### 1. GENDER\n",
    "- **Valores únicos**: `[NaN, 'F', 'M', 'Femal', 'Male', 'female']`\n",
    "- **Categorías**: `['F', 'Femal', 'M', 'Male', 'female']`\n",
    "- **Observaciones**:\n",
    "  - Hay inconsistencias en los valores. Por ejemplo:\n",
    "    - \"F\" y \"Femal\" probablemente representan lo mismo (femenino).\n",
    "    - \"M\" y \"Male\" probablemente representan lo mismo (masculino).\n",
    "    - \"female\" está en minúsculas, mientras que otros valores están en mayúsculas o con mayúscula inicial.\n",
    "  - **Problema**: Esto sugiere que los datos no están estandarizados, lo que podría afectar análisis posteriores.\n",
    "  - **Solución**: Podrías estandarizar los valores para que todos los géneros estén en un formato consistente (por ejemplo, \"Female\" y \"Male\").\n",
    "\n",
    "---\n",
    "\n",
    "### 2. Education\n",
    "- **Valores únicos**: `['Master', 'Bachelor', 'High School or Below', 'College', 'Bachelors', 'Doctor', NaN]`\n",
    "- **Categorías**: `['Bachelor', 'Bachelors', 'College', 'Doctor', 'High School or Below', 'Master']`\n",
    "- **Observaciones**:\n",
    "  - Hay inconsistencias en los valores. Por ejemplo:\n",
    "    - \"Bachelor\" y \"Bachelors\" probablemente representan lo mismo (licenciatura).\n",
    "  - **Problema**: Esto podría causar confusión al analizar los datos por nivel educativo.\n",
    "  - **Solución**: Podrías unificar los valores (por ejemplo, cambiar \"Bachelors\" a \"Bachelor\").\n",
    "\n",
    "---\n",
    "\n",
    "### 3. Policy Type\n",
    "- **Valores únicos**: `['Personal Auto', 'Corporate Auto', 'Special Auto', NaN]`\n",
    "- **Categorías**: `['Corporate Auto', 'Personal Auto', 'Special Auto']`\n",
    "- **Observaciones**:\n",
    "  - Los valores están bien definidos y no hay inconsistencias.\n",
    "  - **Problema**: La presencia de `NaN` (valores nulos) podría indicar datos faltantes.\n",
    "  - **Solución**: Podrías investigar por qué hay valores nulos y decidir si imputarlos o eliminarlos.\n",
    "\n",
    "---\n",
    "\n",
    "### 4. Vehicle Class\n",
    "- **Valores únicos**: `['Four-Door Car', 'Two-Door Car', 'SUV', 'Luxury SUV', 'Sports Car', 'Luxury Car', NaN]`\n",
    "- **Categorías**: `['Four-Door Car', 'Luxury Car', 'Luxury SUV', 'SUV', 'Sports Car', 'Two-Door Car']`\n",
    "- **Observaciones**:\n",
    "  - Los valores están bien definidos, pero hay algunas categorías que podrían solaparse:\n",
    "    - \"Luxury SUV\" y \"Luxury Car\" podrían considerarse subcategorías de \"SUV\" y \"Car\".\n",
    "  - **Problema**: La presencia de `NaN` (valores nulos) podría indicar datos faltantes.\n",
    "  - **Solución**: Podrías investigar por qué hay valores nulos y decidir si imputarlos o eliminarlos.\n",
    "\n",
    "---\n",
    "\n",
    "## Insights generales\n",
    "\n",
    "### Inconsistencias en los datos\n",
    "- Las columnas `GENDER` y `Education` tienen valores inconsistentes (por ejemplo, \"F\" vs. \"Femal\" o \"Bachelor\" vs. \"Bachelors\").\n",
    "- Esto podría afectar análisis posteriores, como agrupaciones o segmentaciones.\n",
    "\n",
    "### Valores nulos\n",
    "- Las columnas `GENDER`, `Education`, `Policy Type`, y `Vehicle Class` tienen valores `NaN`.\n",
    "- Es importante decidir cómo manejar estos valores nulos (eliminarlos, imputarlos, etc.).\n",
    "\n",
    "### Categorías bien definidas\n",
    "- Las columnas `Policy Type` y `Vehicle Class` tienen categorías claras y bien definidas, aunque podrían refinarse (por ejemplo, unificar \"Luxury SUV\" y \"Luxury Car\")."
   ]
  },
  {
   "cell_type": "markdown",
   "id": "867f5d90",
   "metadata": {},
   "source": [
    "---\n",
    "\n",
    "---\n",
    "\n",
    "---\n",
    "\n",
    "## Observaciones por columna (numéricas)\n",
    "\n",
    "### 1. Customer Lifetime Value\n",
    "- **Media:** 793,690.3  \n",
    "- **Mediana:** 588,174.2  \n",
    "- **Mínimo - Máximo:** 200,435.1 - 5,816,655  \n",
    "- **Desviación estándar:** 643,478.4  \n",
    "- **Conclusión:**  \n",
    "  La media y la mediana indican que la distribución está sesgada hacia valores más altos. La gran diferencia entre el máximo y el mínimo, junto con la alta desviación estándar, sugiere la presencia de valores atípicos o una distribución sesgada positivamente.\n",
    "\n",
    "### 2. Income (Ingresos)\n",
    "- **Media:** 39,295.7  \n",
    "- **Mediana:** 36,234  \n",
    "- **Mínimo - Máximo:** 0 - 99,960  \n",
    "- **Desviación estándar:** 30,469.4  \n",
    "- **Conclusión:**  \n",
    "  La distribución de ingresos es amplia, con valores que van desde 0 hasta casi 100,000. La mediana está por debajo de la media, lo que sugiere que hay valores altos que podrían estar sesgando la distribución. También hay ingresos de 0, lo que podría requerir mayor análisis.\n",
    "\n",
    "### 3. Monthly Premium Auto (Pago Mensual del Seguro)\n",
    "- **Media:** 193.2  \n",
    "- **Mediana:** 83  \n",
    "- **Mínimo - Máximo:** 61 - 35,354  \n",
    "- **Desviación estándar:** 1,601.2  \n",
    "- **Conclusión:**  \n",
    "  La media es significativamente mayor que la mediana, lo que indica la presencia de valores extremadamente altos que están influyendo en la media. La gran desviación estándar y el máximo de 35,354 sugieren que algunos clientes tienen pagos inusualmente altos.\n",
    "\n",
    "### 4. Total Claim Amount (Cantidad Total Reclamada)\n",
    "- **Media:** 404.99  \n",
    "- **Mediana:** 354.73  \n",
    "- **Mínimo - Máximo:** 0.38 - 2,893.24  \n",
    "- **Desviación estándar:** 293.03  \n",
    "- **Conclusión:**  \n",
    "  La media y la mediana son relativamente cercanas, lo que indica una distribución más equilibrada en comparación con otras variables. Sin embargo, hay valores extremadamente bajos y altos que podrían merecer un análisis más detallado.\n",
    "\n",
    "## Observaciones Generales:\n",
    "- Hay evidencia de valores atípicos en `Customer Lifetime Value` y `Monthly Premium Auto`, lo que sugiere la necesidad de visualizar la distribución de los datos (por ejemplo, con histogramas o boxplots).\n",
    "- La variable `Income` presenta valores de 0, lo que puede requerir una evaluación adicional para determinar si representan datos faltantes o si algunos clientes realmente tienen ingresos de 0.\n",
    "- `Total Claim Amount` parece tener una distribución más balanceada en comparación con las otras variables.\n",
    "\n",
    "### Recomendaciones:\n",
    "- Realizar un análisis de valores atípicos utilizando boxplots.\n",
    "- Aplicar transformaciones como logaritmos en variables con distribuciones muy sesgadas.\n",
    "- Explorar la correlación entre `Customer Lifetime Value` y `Income` para entender si los ingresos afectan el valor del cliente.\n",
    "\n"
   ]
  },
  {
   "cell_type": "code",
   "execution_count": 41,
   "id": "2768f8e9",
   "metadata": {},
   "outputs": [
    {
     "name": "stdout",
     "output_type": "stream",
     "text": [
      "<class 'pandas.core.series.Series'>\n"
     ]
    }
   ],
   "source": [
    "# The marketing team wants to know the top 5 less common customer locations. Create a pandas Series object that contains the customer locations and their frequencies, and then retrieve the top 5 less common locations in ascending order.\n",
    "# Contar la frecuencia de cada ubicación\n",
    "location_counts = customer_df['ST'].value_counts()\n",
    "\n",
    "# Seleccionar los 5 menos comunes en orden ascendente\n",
    "least_common_locations = location_counts.nsmallest(5)\n",
    "\n",
    "# Mostrar el resultado\n",
    "print(least_common_locations)"
   ]
  },
  {
   "cell_type": "code",
   "execution_count": 51,
   "id": "46df0036",
   "metadata": {},
   "outputs": [
    {
     "name": "stdout",
     "output_type": "stream",
     "text": [
      "El tipo de póliza más vendido es: Personal Auto\n"
     ]
    }
   ],
   "source": [
    "# The sales team wants to know the total number of policies sold for each type of policy. Create a pandas Series object that contains the policy types and their total number of policies sold, and then retrieve the policy type with the highest number of policies sold.\n",
    "\n",
    "policy_counts = customer_df['Policy Type'].value_counts()\n",
    "\n",
    "# Obtener el tipo de póliza con más ventas\n",
    "most_sold_policy = policy_counts.idxmax()\n",
    "\n",
    "# Mostrar el resultado\n",
    "print(f\"El tipo de póliza más vendido es: {most_sold_policy}\")"
   ]
  },
  {
   "cell_type": "code",
   "execution_count": 57,
   "id": "6e7c0c12",
   "metadata": {},
   "outputs": [
    {
     "name": "stdout",
     "output_type": "stream",
     "text": [
      "Ingreso promedio - Personal Auto: 38180.70\n",
      "Ingreso promedio - Corporate Auto: 41390.31\n",
      "Los clientes con Personal Auto tienen un ingreso promedio más bajo que los de Corporate Auto.\n"
     ]
    }
   ],
   "source": [
    "# The sales team wants to know if customers with Personal Auto have a lower income than those with Corporate Auto. How does the average income compare between the two policy types?\n",
    "\n",
    "# Filtrar los clientes con póliza \"Personal Auto\"\n",
    "personal_auto_df = customer_df.loc[customer_df[\"Policy Type\"] == \"Personal Auto\"]\n",
    "\n",
    "# Filtrar los clientes con póliza \"Corporate Auto\"\n",
    "corporate_auto_df = customer_df.loc[customer_df[\"Policy Type\"] == \"Corporate Auto\"]\n",
    "\n",
    "# Calcular la media de ingresos para cada tipo de póliza\n",
    "avg_income_personal = personal_auto_df[\"Income\"].mean()\n",
    "avg_income_corporate = corporate_auto_df[\"Income\"].mean()\n",
    "\n",
    "# Imprimir los resultados\n",
    "print(f\"Ingreso promedio - Personal Auto: {avg_income_personal:.2f}\")\n",
    "print(f\"Ingreso promedio - Corporate Auto: {avg_income_corporate:.2f}\")\n",
    "\n",
    "# Comparación\n",
    "if avg_income_personal < avg_income_corporate:\n",
    "    print(\"Los clientes con Personal Auto tienen un ingreso promedio más bajo que los de Corporate Auto.\")\n",
    "elif avg_income_personal > avg_income_corporate:\n",
    "    print(\"Los clientes con Personal Auto tienen un ingreso promedio más alto que los de Corporate Auto.\")\n",
    "else:\n",
    "    print(\"Los clientes con Personal Auto y Corporate Auto tienen el mismo ingreso promedio.\")\n"
   ]
  },
  {
   "cell_type": "code",
   "execution_count": null,
   "id": "47fcd1bf",
   "metadata": {},
   "outputs": [],
   "source": []
  }
 ],
 "metadata": {
  "kernelspec": {
   "display_name": "Python 3 (ipykernel)",
   "language": "python",
   "name": "python3"
  },
  "language_info": {
   "codemirror_mode": {
    "name": "ipython",
    "version": 3
   },
   "file_extension": ".py",
   "mimetype": "text/x-python",
   "name": "python",
   "nbconvert_exporter": "python",
   "pygments_lexer": "ipython3",
   "version": "3.8.5"
  }
 },
 "nbformat": 4,
 "nbformat_minor": 5
}
